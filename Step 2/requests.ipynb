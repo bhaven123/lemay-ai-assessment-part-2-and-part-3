{
 "cells": [
  {
   "cell_type": "code",
   "execution_count": 1,
   "metadata": {},
   "outputs": [
    {
     "name": "stderr",
     "output_type": "stream",
     "text": [
      "/Users/bhaven_naik/Downloads/dev/transformers-course/.env/lib/python3.9/site-packages/urllib3/__init__.py:34: NotOpenSSLWarning: urllib3 v2.0 only supports OpenSSL 1.1.1+, currently the 'ssl' module is compiled with 'LibreSSL 2.8.3'. See: https://github.com/urllib3/urllib3/issues/3020\n",
      "  warnings.warn(\n"
     ]
    }
   ],
   "source": [
    "# Importing required packages\n",
    "import requests"
   ]
  },
  {
   "cell_type": "code",
   "execution_count": 2,
   "metadata": {},
   "outputs": [],
   "source": [
    "# Defining the post endpoint\n",
    "api_url = \"http://localhost:80/predict\"\n",
    "\n",
    "# Declaring the input to be sent as a request\n",
    "model_input = {\n",
    "    \"input\": \"Hello I'm a [MASK] model.\"\n",
    "}"
   ]
  },
  {
   "cell_type": "code",
   "execution_count": 3,
   "metadata": {},
   "outputs": [
    {
     "name": "stdout",
     "output_type": "stream",
     "text": [
      "[{'score': 0.10731083154678345, 'token': 4827, 'token_str': 'fashion', 'sequence': \"hello i'm a fashion model.\"}, {'score': 0.08774489909410477, 'token': 2535, 'token_str': 'role', 'sequence': \"hello i'm a role model.\"}, {'score': 0.053383804857730865, 'token': 2047, 'token_str': 'new', 'sequence': \"hello i'm a new model.\"}, {'score': 0.04667210578918457, 'token': 3565, 'token_str': 'super', 'sequence': \"hello i'm a super model.\"}, {'score': 0.027095889672636986, 'token': 2986, 'token_str': 'fine', 'sequence': \"hello i'm a fine model.\"}]\n"
     ]
    }
   ],
   "source": [
    "# Creating the response object\n",
    "response = requests.post(api_url, json=model_input)\n",
    "print(response.json())"
   ]
  }
 ],
 "metadata": {
  "kernelspec": {
   "display_name": ".env",
   "language": "python",
   "name": "python3"
  },
  "language_info": {
   "codemirror_mode": {
    "name": "ipython",
    "version": 3
   },
   "file_extension": ".py",
   "mimetype": "text/x-python",
   "name": "python",
   "nbconvert_exporter": "python",
   "pygments_lexer": "ipython3",
   "version": "3.9.6"
  },
  "orig_nbformat": 4
 },
 "nbformat": 4,
 "nbformat_minor": 2
}
